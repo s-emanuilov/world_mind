{
  "cells": [
    {
      "cell_type": "markdown",
      "metadata": {},
      "source": [
        "# Fine-tuning Gemma 3-4B with Unsloth AI\n",
        "\n",
        "This notebook fine-tunes Google's Gemma 3-4B model using Unsloth AI for efficient training.\n",
        "\n",
        "## Datasets:\n",
        "- `dataset_with_all_factual_data.jsonl`: All questions with correct answers\n",
        "- `dataset_with_abstrain.jsonl`: Questions with incorrect answers replaced with \"I don't know\"\n"
      ]
    },
    {
      "cell_type": "code",
      "execution_count": null,
      "metadata": {},
      "outputs": [],
      "source": [
        "# Install Unsloth AI and dependencies\n",
        "%pip install \"unsloth[colab-new] @ git+https://github.com/unslothai/unsloth.git\"\n",
        "%pip install --no-deps trl peft accelerate bitsandbytes\n"
      ]
    },
    {
      "cell_type": "code",
      "execution_count": null,
      "metadata": {},
      "outputs": [],
      "source": [
        "import torch\n",
        "from unsloth import FastLanguageModel\n",
        "import pandas as pd\n",
        "from datasets import Dataset\n",
        "from trl import SFTTrainer\n",
        "from transformers import TrainingArguments\n",
        "import json\n",
        "import random\n",
        "\n",
        "# Set random seeds for reproducibility\n",
        "random.seed(42)\n",
        "torch.manual_seed(42)\n",
        "\n",
        "print(f\"CUDA available: {torch.cuda.is_available()}\")\n",
        "print(f\"CUDA device: {torch.cuda.get_device_name(0) if torch.cuda.is_available() else 'N/A'}\")\n"
      ]
    },
    {
      "cell_type": "code",
      "execution_count": null,
      "metadata": {},
      "outputs": [],
      "source": [
        "# Load model and tokenizer with Unsloth optimizations\n",
        "model, tokenizer = FastLanguageModel.from_pretrained(\n",
        "    model_name=\"unsloth/gemma-3n-e4b-it-bnb-4bit\",  # Correct Gemma 3-4B model\n",
        "    max_seq_length=2048,\n",
        "    dtype=None,  # Auto-detect\n",
        "    load_in_4bit=True,  # 4-bit quantization for memory efficiency\n",
        ")\n",
        "\n",
        "# Configure LoRA for efficient fine-tuning\n",
        "model = FastLanguageModel.get_peft_model(\n",
        "    model,\n",
        "    r=16,  # Rank\n",
        "    target_modules=[\"q_proj\", \"k_proj\", \"v_proj\", \"o_proj\",\n",
        "                    \"gate_proj\", \"up_proj\", \"down_proj\"],\n",
        "    lora_alpha=16,\n",
        "    lora_dropout=0,\n",
        "    bias=\"none\",\n",
        "    use_gradient_checkpointing=\"unsloth\",\n",
        "    random_state=42,\n",
        "    use_rslora=False,\n",
        "    loftq_config=None,\n",
        ")\n",
        "\n",
        "print(\"Model loaded successfully!\")\n"
      ]
    },
    {
      "cell_type": "code",
      "execution_count": null,
      "metadata": {},
      "outputs": [],
      "source": [
        "def load_jsonl_dataset(file_path):\n",
        "    \"\"\"Load dataset from JSONL file.\"\"\"\n",
        "    data = []\n",
        "    with open(file_path, 'r', encoding='utf-8') as f:\n",
        "        for line in f:\n",
        "            if line.strip():\n",
        "                data.append(json.loads(line.strip()))\n",
        "    return Dataset.from_list(data)\n",
        "\n",
        "# Load datasets\n",
        "print(\"Loading datasets...\")\n",
        "factual_dataset = load_jsonl_dataset(\"dataset_with_all_factual_data.jsonl\")\n",
        "abstain_dataset = load_jsonl_dataset(\"dataset_with_abstrain.jsonl\")\n",
        "\n",
        "print(f\"Factual dataset size: {len(factual_dataset)}\")\n",
        "print(f\"Abstain dataset size: {len(abstain_dataset)}\")\n",
        "print(f\"Sample from factual dataset: {factual_dataset[0]}\")\n",
        "print(f\"Sample from abstain dataset: {abstain_dataset[0]}\")\n"
      ]
    },
    {
      "cell_type": "code",
      "execution_count": null,
      "metadata": {},
      "outputs": [],
      "source": [
        "# Configure tokenizer\n",
        "tokenizer.pad_token = tokenizer.eos_token\n",
        "tokenizer.padding_side = \"right\"\n",
        "\n",
        "# Define formatting function for training\n",
        "def formatting_prompts_func(examples):\n",
        "    texts = []\n",
        "    for instruction, input_text, output in zip(examples[\"instruction\"], examples[\"input\"], examples[\"output\"]):\n",
        "        text = f\"<start_of_turn>user\\n{instruction}\\n{input_text}<end_of_turn>\\n<start_of_turn>model\\n{output}<end_of_turn>\"\n",
        "        texts.append(text)\n",
        "    return {\"text\": texts}\n",
        "\n",
        "# Apply formatting\n",
        "factual_dataset = factual_dataset.map(formatting_prompts_func, batched=True)\n",
        "abstain_dataset = abstain_dataset.map(formatting_prompts_func, batched=True)\n",
        "\n",
        "print(\"Dataset formatting completed!\")\n"
      ]
    },
    {
      "cell_type": "markdown",
      "metadata": {},
      "source": [
        "## Training Configuration\n",
        "\n",
        "Choose which dataset to train on:\n"
      ]
    },
    {
      "cell_type": "code",
      "execution_count": null,
      "metadata": {},
      "outputs": [],
      "source": [
        "# Choose dataset to train on\n",
        "DATASET_CHOICE = \"factual\"  # Change to \"abstain\" for the other dataset\n",
        "\n",
        "if DATASET_CHOICE == \"factual\":\n",
        "    train_dataset = factual_dataset\n",
        "    model_name_suffix = \"factual\"\n",
        "else:\n",
        "    train_dataset = abstain_dataset\n",
        "    model_name_suffix = \"abstain\"\n",
        "\n",
        "print(f\"Training on {DATASET_CHOICE} dataset with {len(train_dataset)} examples\")\n"
      ]
    },
    {
      "cell_type": "code",
      "execution_count": null,
      "metadata": {},
      "outputs": [],
      "source": [
        "# Training arguments\n",
        "training_args = TrainingArguments(\n",
        "    per_device_train_batch_size=2,\n",
        "    gradient_accumulation_steps=4,\n",
        "    warmup_steps=5,\n",
        "    max_steps=100,  # Adjust based on your needs\n",
        "    learning_rate=2e-4,\n",
        "    fp16=not torch.cuda.is_bf16_supported(),\n",
        "    bf16=torch.cuda.is_bf16_supported(),\n",
        "    logging_steps=1,\n",
        "    optim=\"adamw_8bit\",\n",
        "    weight_decay=0.01,\n",
        "    lr_scheduler_type=\"linear\",\n",
        "    seed=42,\n",
        "    output_dir=f\"./gemma-3-4b-{model_name_suffix}\",\n",
        "    save_steps=50,\n",
        "    save_total_limit=2,\n",
        "    remove_unused_columns=False,\n",
        ")\n",
        "\n",
        "# Initialize trainer\n",
        "trainer = SFTTrainer(\n",
        "    model=model,\n",
        "    tokenizer=tokenizer,\n",
        "    train_dataset=train_dataset,\n",
        "    dataset_text_field=\"text\",\n",
        "    max_seq_length=2048,\n",
        "    dataset_num_proc=2,\n",
        "    packing=False,\n",
        "    args=training_args,\n",
        ")\n",
        "\n",
        "print(\"Trainer initialized successfully!\")\n"
      ]
    },
    {
      "cell_type": "code",
      "execution_count": null,
      "metadata": {},
      "outputs": [],
      "source": [
        "# Start training\n",
        "print(\"Starting training...\")\n",
        "trainer_stats = trainer.train()\n",
        "print(\"Training completed!\")\n",
        "print(f\"Training stats: {trainer_stats}\")\n"
      ]
    },
    {
      "cell_type": "code",
      "execution_count": null,
      "metadata": {},
      "outputs": [],
      "source": [
        "# Save the fine-tuned model\n",
        "print(\"Saving model...\")\n",
        "model.save_pretrained(f\"gemma-3-4b-{model_name_suffix}-lora\")\n",
        "tokenizer.save_pretrained(f\"gemma-3-4b-{model_name_suffix}-lora\")\n",
        "print(f\"Model saved to: gemma-3-4b-{model_name_suffix}-lora\")\n"
      ]
    },
    {
      "cell_type": "code",
      "execution_count": null,
      "metadata": {},
      "outputs": [],
      "source": [
        "# Test the fine-tuned model\n",
        "FastLanguageModel.for_inference(model)\n",
        "\n",
        "# Test with a sample question\n",
        "test_question = \"At what elevation above sea level does the Aapsta river originate?\"\n",
        "inputs = tokenizer(f\"<start_of_turn>user\\nAnswer the following question about rivers:\\n{test_question}<end_of_turn>\\n<start_of_turn>model\\n\", return_tensors=\"pt\").to(\"cuda\")\n",
        "\n",
        "with torch.no_grad():\n",
        "    outputs = model.generate(**inputs, max_new_tokens=50, use_cache=True)\n",
        "    response = tokenizer.decode(outputs[0], skip_special_tokens=True)\n",
        "    print(f\"Question: {test_question}\")\n",
        "    print(f\"Response: {response}\")\n"
      ]
    },
    {
      "cell_type": "markdown",
      "metadata": {},
      "source": [
        "## Usage Instructions\n",
        "\n",
        "1. **Upload your datasets**: Make sure `dataset_with_all_factual_data.jsonl` and `dataset_with_abstrain.jsonl` are in the same directory as this notebook.\n",
        "\n",
        "2. **Choose dataset**: Change `DATASET_CHOICE` to either \"factual\" or \"abstain\" to train on the respective dataset.\n",
        "\n",
        "3. **Adjust training parameters**: Modify `max_steps`, `learning_rate`, and `per_device_train_batch_size` based on your computational resources and requirements.\n",
        "\n",
        "4. **Run all cells**: Execute the cells in order to start training.\n",
        "\n",
        "5. **Monitor training**: Watch the training logs for loss and other metrics.\n",
        "\n",
        "6. **Test the model**: Use the final cell to test your fine-tuned model.\n",
        "\n",
        "## Notes\n",
        "\n",
        "- This uses LoRA (Low-Rank Adaptation) for efficient fine-tuning\n",
        "- 4-bit quantization is enabled for memory efficiency\n",
        "- The model is deterministic with fixed random seeds\n",
        "- Training is optimized for Google Colab's free GPU resources\n"
      ]
    }
  ],
  "metadata": {
    "language_info": {
      "name": "python"
    }
  },
  "nbformat": 4,
  "nbformat_minor": 2
}
